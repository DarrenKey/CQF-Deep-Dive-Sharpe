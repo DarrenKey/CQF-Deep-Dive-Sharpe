{
 "cells": [
  {
   "cell_type": "code",
   "execution_count": null,
   "metadata": {},
   "outputs": [],
   "source": [
    "#import yahoo_fin.stock_info as si\n",
    "#import yf.info as si\n",
    "import warnings\n",
    "warnings.simplefilter(action='ignore', category=FutureWarning)\n",
    "\n",
    "import pandas as pd\n",
    "from io import BytesIO\n",
    "\n",
    "with open(\"companies.txt\") as file:\n",
    "    lines = file.readlines()\n",
    "    companyList = [line.rstrip() for line in lines]\n",
    "\n",
    "stockData = {}\n",
    "\n",
    "# writer = pd.ExcelWriter('/path_to_save/output.xlsx')\n",
    "sum_df=pd.DataFrame()\n",
    "\n",
    "for ticker in companyList:\n",
    "    try:\n",
    "        stockData[ticker] = si.get_data(ticker, start_date=\"01/01/2010\", end_date=\"01/03/2020\", interval=\"1mo\")\n",
    "        sum_df = sum_df.append(stockData[ticker])\n",
    "    except:\n",
    "        continue\n",
    "\n",
    "sum_df.to_excel(\"output.xlsx\") "
   ]
  }
 ],
 "metadata": {
  "language_info": {
   "name": "python"
  },
  "orig_nbformat": 4
 },
 "nbformat": 4,
 "nbformat_minor": 2
}
